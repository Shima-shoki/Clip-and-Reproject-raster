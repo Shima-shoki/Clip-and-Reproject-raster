{
 "cells": [
  {
   "cell_type": "markdown",
   "id": "9b70bbf9",
   "metadata": {},
   "source": [
    "### This code can clip and resample the input raster files.\n",
    "It provides follwing two main operations.\n",
    "- Clip and resample an input raster file to match a reference raster.\n",
    "- Resample an input raster file to an arbitrary resolution and a region.\n",
    "\n",
    "Example of situations that this code might be helpful:\n",
    "- We have many files that must have a same dimention and crs of a reference raster. For example, a combined use of MODIS products that hace different spatial resolutions.\n",
    "- We want to reduce the region of interest to a smaller scale. \n",
    "- We want to change the resolution to a different scale. "
   ]
  },
  {
   "cell_type": "markdown",
   "id": "adb043cc",
   "metadata": {},
   "source": [
    "**This code will work if the following conditions are met.**\n",
    "- The target folder or directory has sub folders or directories.\n",
    "- The target images are in the sub folders or directories, not in the target folder itself."
   ]
  },
  {
   "attachments": {
    "%E7%84%A1%E9%A1%8C.png": {
     "image/png": "[encoded data removed]"
    }
   },
   "cell_type": "markdown",
   "id": "9c7570e9",
   "metadata": {},
   "source": [
    "![%E7%84%A1%E9%A1%8C.png](attachment:%E7%84%A1%E9%A1%8C.png)"
   ]
  },
  {
   "cell_type": "code",
   "execution_count": 7,
   "id": "8766ef24",
   "metadata": {},
   "outputs": [],
   "source": [
    "import rasterio \n",
    "from rasterio.mask import mask\n",
    "from shapely.geometry import box\n",
    "import geopandas as gpd\n",
    "from fiona.crs import from_epsg\n",
    "import json\n",
    "import pycrs\n",
    "import numpy as np\n",
    "from rasterio.enums import Resampling\n",
    "import os, glob, shutil\n",
    "from tqdm import tqdm\n",
    "\n",
    "\n",
    "\n",
    "class ClipResampleRaster:\n",
    "    \n",
    "    def __init__(self,pathToTargetFolder,pathToRefImage=None):\n",
    "        self.pathToTargetFolder=pathToTargetFolder \n",
    "        if pathToRefImage==None:\n",
    "            pass\n",
    "        else:\n",
    "            self.pathToRefImage=pathToRefImage\n",
    "    \n",
    "    def boundaryBox_ref(self):\n",
    "        ref_image=rasterio.open(self.pathToRefImage)\n",
    "        bounds=ref_image.bounds\n",
    "        bbox = box(bounds[0], bounds[1], bounds[2], bounds[3])\n",
    "        geo = gpd.GeoDataFrame({'geometry': bbox}, index=[0], crs=from_epsg(4326))\n",
    "        geo = geo.to_crs(crs=ref_image.crs)\n",
    "        coords=[json.loads(geo.to_json())['features'][0]['geometry']]\n",
    "        return coords\n",
    "    \n",
    "    def outputRasterMeta_ref(self):\n",
    "        ref_image=rasterio.open(self.pathToRefImage)\n",
    "        self.height=ref_image.meta[\"height\"]\n",
    "        self.width=ref_image.meta[\"width\"]\n",
    "        self.count=ref_image.meta[\"count\"]\n",
    "        self.crs=ref_image.meta[\"crs\"]\n",
    "        self.transform=ref_image.meta[\"transform\"]\n",
    "        \n",
    "    def boundaryBox(self,boxCoordinates=None):\n",
    "        pathToIndividualFolder=os.listdir(self.pathToTargetFolder)[0]\n",
    "        fileName=os.listdir(self.pathToTargetFolder+f\"\\{pathToIndividualFolder}\")[0]\n",
    "        path=self.pathToTargetFolder+\\\n",
    "        f\"\\{pathToIndividualFolder}\"+\\\n",
    "        f\"\\{fileName}\"\n",
    "        src_image=rasterio.open(path) \n",
    "        \n",
    "        if boxCoordinates==None:\n",
    "            boxCoordinates=list(src_image.bounds)\n",
    "            bbox=box(boxCoordinates[0],boxCoordinates[1],boxCoordinates[2],boxCoordinates[3])\n",
    "        else:\n",
    "            bbox=box(boxCoordinates[0],boxCoordinates[1],boxCoordinates[2],boxCoordinates[3])\n",
    "        geo = gpd.GeoDataFrame({'geometry': bbox}, index=[0], crs=src_image.crs)\n",
    "        coords=[json.loads(geo.to_json())['features'][0]['geometry']]\n",
    "        self.mapCenter=((boxCoordinates[0]+boxCoordinates[2])/2,(boxCoordinates[1]+boxCoordinates[3])/2)\n",
    "        \n",
    "        out_img, out_transform = rasterio.mask.mask(src_image, coords, crop=True)\n",
    "        self.width=out_img.shape[2]\n",
    "        self.height=out_img.shape[1]\n",
    "        self.transform=out_transform\n",
    "        return coords\n",
    "    \n",
    "    def outputRasterMeta(self,resolutionByMeter,resolutionByDegree=None):\n",
    "        pathToIndividualFolder=os.listdir(self.pathToTargetFolder)[0]\n",
    "        fileName=os.listdir(self.pathToTargetFolder+f\"\\{pathToIndividualFolder}\")[0]\n",
    "        path=self.pathToTargetFolder+\\\n",
    "        f\"\\{pathToIndividualFolder}\"+\\\n",
    "        f\"\\{fileName}\"\n",
    "        src_image=rasterio.open(path)\n",
    "        if (src_image.meta[\"crs\"]==from_epsg(4326))==True:\n",
    "            d=resolutionByMeter/1000\n",
    "            r=6371\n",
    "            lat=np.radians(self.mapCenter[1])\n",
    "            resolution=abs(np.degrees(2*np.arcsin(np.sin(d/(2*r)))))\n",
    "        elif (resolutionByDegree!=None)==True:\n",
    "            resolution=resolutionByDegree\n",
    "        else:\n",
    "            resolution=resolutionByMeter\n",
    "        \n",
    "        src_affine=src_image.meta[\"transform\"]\n",
    "        src_width=src_image.meta[\"width\"]\n",
    "        src_height=src_image.meta[\"height\"]\n",
    "        target_transform,target_width,target_height=\\\n",
    "        rasterio.warp.aligned_target(self.transform,self.width,self.height,resolution)\n",
    "        \n",
    "        self.height=target_height\n",
    "        self.width=target_width\n",
    "        self.count=src_image.meta[\"count\"]\n",
    "        self.crs=src_image.meta[\"crs\"]\n",
    "        self.transform=target_transform\n",
    "        \n",
    "    def getTargetFiles(self):\n",
    "        targetFolderNames=os.listdir(self.pathToTargetFolder)\n",
    "        targetFiles={}\n",
    "        for name in targetFolderNames:\n",
    "            targetFiles[name]=os.listdir(self.pathToTargetFolder+f\"\\{name}\")\n",
    "        self.targetFiles=targetFiles\n",
    "    \n",
    "    def resampleRaster(self,path,fileName,resamplingMethod):\n",
    "        if resamplingMethod==\"nearest\":\n",
    "            resamplingMethod_func=Resampling.nearest\n",
    "        elif resamplingMethod==\"bilinear\":\n",
    "            resamplingMethod_func=Resampling.bilinear\n",
    "        else:\n",
    "            print(\"Please specify the resampling method either nearest or bilinear.\")\n",
    "            \n",
    "        name=fileName.replace(\".tif\",\"\")\n",
    "        with rasterio.open(path+f\"\\{name}_clipped.tif\") as dataset:\n",
    "            dataset=dataset.read(out_shape=(self.height,self.width),resampling=resamplingMethod_func)\n",
    "        return dataset\n",
    "    \n",
    "    def writeClippedRaster(self,path,fileName):\n",
    "        data=rasterio.open(path+f\"\\{fileName}\")\n",
    "        out_img, out_transform = rasterio.mask.mask(data, coords, crop=True)\n",
    "        name=fileName.replace(\".tif\",\"\")\n",
    "        dtype=out_img.dtype\n",
    "        with rasterio.open(path+f\"/{name}_clipped.tif\",\n",
    "                           'w',\n",
    "                           driver='GTiff',\n",
    "                           width=out_img.shape[2],\n",
    "                           height=out_img.shape[1],\n",
    "                           count=data.count,\n",
    "                           crs=data.crs,\n",
    "                           transform=out_transform,\n",
    "                           dtype=dtype) as output:\n",
    "            for i in range(data.count):\n",
    "                output.write(out_img[i],i+1)\n",
    "            output.close()\n",
    "        data.close()\n",
    "    \n",
    "    def writeResampledRaster(self,path,fileName,raster):\n",
    "        dtype=raster.dtype\n",
    "        name=fileName.replace(\".tif\",\"\")\n",
    "        with rasterio.open(path+f\"\\{name}_resampled.tif\",\n",
    "                           'w',\n",
    "                           driver='GTiff',\n",
    "                           width=self.width,\n",
    "                           height=self.height,\n",
    "                           count=self.count,\n",
    "                           crs=self.crs,\n",
    "                           transform=self.transform,\n",
    "                           dtype=dtype) as output:\n",
    "            for i in range(self.count):\n",
    "                output.write(raster[i],i+1)\n",
    "            output.close()\n",
    "    \n",
    "    def writeOutputRaster(self,resamplingMethod,suffixOfSavedFileFolder):\n",
    "        targetFiles=self.targetFiles\n",
    "        writeClippedRaster=self. writeClippedRaster\n",
    "        resampleRaster=self.resampleRaster\n",
    "        writeResampledRaster=self.writeResampledRaster\n",
    "        for folder in tqdm(targetFiles.keys()):\n",
    "            path=self.pathToTargetFolder+f\"\\{folder}\"\n",
    "            path_to_savedFileFolder=self.pathToTargetFolder+f\"\\{folder}_{suffixOfSavedFileFolder}\"\n",
    "            os.mkdir(path_to_savedFileFolder)\n",
    "            for fileName in targetFiles[f\"{folder}\"]:\n",
    "                writeClippedRaster(path,fileName)\n",
    "                dataset=resampleRaster(path,fileName,resamplingMethod)\n",
    "                writeResampledRaster(path_to_savedFileFolder,fileName,dataset)\n",
    "    \n",
    "    def cleanUp(self):\n",
    "        targetFiles=self.targetFiles\n",
    "        for folder in tqdm(targetFiles.keys()):\n",
    "            path=self.pathToTargetFolder+f\"\\{folder}\"\n",
    "            shutil.rmtree(path)\n",
    "        print(\"The clean up process is completed!\")   "
   ]
  },
  {
   "cell_type": "markdown",
   "id": "59e0f814",
   "metadata": {},
   "source": [
    "**ClipResampleRaster.boudaryBox_ref()**\n",
    "- Calculates the coordinates of the reference image.\n",
    "\n",
    "**ClipResampleRaster.outputRasterMeta_ref()**\n",
    "- Calculates the necessary metadata to match the target rasters to the reference image.\n",
    "\n",
    "**ClipResampleRaster.boudaryBox(boxCoordinates=None)**\n",
    "- Calculates the boundary coordinates of the clipped rasters. If the image is in UTM, it automatically converts lat/long inputs to the UTM coordinates.\n",
    "- If no ROI coordinates are given, the original raster boundary coordinates will be used.\n",
    "\n",
    "**ClipResampleRaster.outputRasterMeta(resolutionByMeter,resolutionByDegree=None)**\n",
    "- Calculates the necessary resolution information of the output raster. If the target rasters are in lat/long coordinates, the target resolution value given by a meter unit is converted into an approximate degree resolution by using an inverst of the haversine formula.\n",
    "- It is also possible to give a resolution by a degree unit.\n",
    "\n",
    "**ClipResampleRaster.getTargetFiles()**\n",
    "- Get a list of file names of target rasters.\n",
    "\n",
    "**ClipResampleRaster.writeOutputRaster(resamplingMethod,suffixOfSavedFileFolder)**\n",
    "- The available resampling methods are the nearest neighbor or the bilinear.\n",
    "- You need to give the suffix for the folders that store the resampled and clipped rasters.\n",
    "\n",
    "**ClipResampleRaster.cleanUp()**\n",
    "- Delete all the unnecessary files. Only the resampled and clipped rasters are left."
   ]
  },
  {
   "cell_type": "markdown",
   "id": "da074d41",
   "metadata": {},
   "source": [
    "### First example: Clip and resample rasters to match their shape and resolution to a reference image."
   ]
  },
  {
   "cell_type": "code",
   "execution_count": 8,
   "id": "2bf431bb",
   "metadata": {},
   "outputs": [
    {
     "name": "stderr",
     "output_type": "stream",
     "text": [
      "100%|███████████████████████████████████████████████████████████████████████████████████| 3/3 [07:20<00:00, 146.94s/it]\n"
     ]
    }
   ],
   "source": [
    "targetFolderPath=\"C:\\\\Users\\shoki\\Desktop\\TargetFolder\" #A path to the folder which contains rasters we want to process\n",
    "referenceImagePath=\"C:\\\\Users\\shoki\\Downloads\\MCD12Q1.A2001001.IGBP.Buryat.geotiff.tif\" #A path to the reference image\n",
    "\n",
    "database=ClipResampleRaster(targetFolderPath,referenceImagePath) \n",
    "coords=database.boundaryBox_ref() #Get the coordinates of the bound of the reference image\n",
    "database.getTargetFiles() #Get a list of rasters we want to process\n",
    "database.outputRasterMeta_ref() #Calculate necessary the input metadata\n",
    "database.writeOutputRaster(\"nearest\",\"outputFileFolder\") #Write processed rasters"
   ]
  },
  {
   "cell_type": "markdown",
   "id": "d9dedf42",
   "metadata": {},
   "source": [
    "### Second example: Resample rasters to an arbitrary resolution."
   ]
  },
  {
   "cell_type": "code",
   "execution_count": 10,
   "id": "e3710a7c",
   "metadata": {},
   "outputs": [
    {
     "name": "stderr",
     "output_type": "stream",
     "text": [
      "100%|████████████████████████████████████████████████████████████████████████████████████| 3/3 [01:29<00:00, 29.82s/it]\n"
     ]
    }
   ],
   "source": [
    "targetFolderPath=\"C:\\\\Users\\shoki\\Desktop\\TargetFolder\"\n",
    "database=ClipResampleRaster(targetFolderPath)\n",
    "coords=database.boundaryBox() \n",
    "database.getTargetFiles()\n",
    "database.outputRasterMeta(2000) #Specify the resolution to 2000 m.\n",
    "database.writeOutputRaster(\"nearest\",\"outputFileFolder\")"
   ]
  },
  {
   "cell_type": "markdown",
   "id": "0576bcbe",
   "metadata": {},
   "source": [
    "### Third example: Resample rasters to an arbitrary resolution. We also clip rasters to a region of interest (ROI)."
   ]
  },
  {
   "cell_type": "code",
   "execution_count": 12,
   "id": "81f065e7",
   "metadata": {},
   "outputs": [
    {
     "name": "stderr",
     "output_type": "stream",
     "text": [
      "100%|████████████████████████████████████████████████████████████████████████████████████| 3/3 [00:30<00:00, 10.18s/it]\n"
     ]
    }
   ],
   "source": [
    "bounds=[100,52,105,55] #The coordinates of ROI in a rectangular shape. ROI=[xmin, ymin, xmax, ymax]\n",
    "\n",
    "targetFolderPath=\"C:\\\\Users\\shoki\\Desktop\\TargetFolder\"\n",
    "database=ClipResampleRaster(targetFolderPath)\n",
    "coords=database.boundaryBox(bounds) #Get the coordinates for the output rasters.\n",
    "database.getTargetFiles()\n",
    "database.outputRasterMeta(2000)\n",
    "database.writeOutputRaster(\"nearest\",\"outputFileFolder\")"
   ]
  },
  {
   "cell_type": "code",
   "execution_count": 13,
   "id": "59605190",
   "metadata": {},
   "outputs": [
    {
     "name": "stderr",
     "output_type": "stream",
     "text": [
      "100%|████████████████████████████████████████████████████████████████████████████████████| 3/3 [00:00<00:00,  5.22it/s]"
     ]
    },
    {
     "name": "stdout",
     "output_type": "stream",
     "text": [
      "The clean up process is completed!\n"
     ]
    },
    {
     "name": "stderr",
     "output_type": "stream",
     "text": [
      "\n"
     ]
    }
   ],
   "source": [
    "#Delete the uncessesary files\n",
    "database.cleanUp()"
   ]
  }
 ],
 "metadata": {
  "kernelspec": {
   "display_name": "Python 3",
   "language": "python",
   "name": "python3"
  },
  "language_info": {
   "codemirror_mode": {
    "name": "ipython",
    "version": 3
   },
   "file_extension": ".py",
   "mimetype": "text/x-python",
   "name": "python",
   "nbconvert_exporter": "python",
   "pygments_lexer": "ipython3",
   "version": "3.7.10"
  }
 },
 "nbformat": 4,
 "nbformat_minor": 5
}
